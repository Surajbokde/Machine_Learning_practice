{
 "cells": [
  {
   "cell_type": "code",
   "execution_count": 1,
   "id": "protective-southeast",
   "metadata": {},
   "outputs": [
    {
     "name": "stdout",
     "output_type": "stream",
     "text": [
      "High risk customer \n"
     ]
    },
    {
     "data": {
      "image/png": "[encoded data removed]",
      "text/plain": [
       "<Figure size 432x288 with 1 Axes>"
      ]
     },
     "metadata": {
      "needs_background": "light"
     },
     "output_type": "display_data"
    }
   ],
   "source": [
    "#Expt. 2 Implementing a classifier using linear discriminant function\n",
    "\n",
    "import matplotlib.pyplot as plt\n",
    "import numpy as np\n",
    "from statistics import mean\n",
    "from numpy.linalg import norm\n",
    "\n",
    "#first value in each vector is income and second is saving amount per year in lacs\n",
    "#n is Sample size for each class\n",
    "n=10\n",
    "\n",
    "#data for low risk customers(class-1)\n",
    "D1=np.array([[3.5,0.7],[5.8,0.62],[5.5,0.5],[4.8,0.6],[7.5,0.6],[3.9,0.5],[6.9,0.6],[5.3,0.7],[9.2,0.6],[10.1,.7]])\n",
    "\n",
    "#data for high risk customers(class-2)\n",
    "D2=np.array([[3,.05],[6.5,0.2],[4.5,0.12],[8.5,0.35],[4.8,0.03],[3,0.1],[4,0.15],[6.2,0.02],[5.4,.21],[7,0.16],[8,0.21]])   \n",
    "                                                              \n",
    "#plot the low_risk training instances(points)\n",
    "plt.scatter(D1[:,0],D1[:,1],color='blue')\n",
    "\n",
    "#plot the high_risk training instances(points)\n",
    "plt.scatter(D2[:,0],D2[:,1],color='red')\n",
    "\n",
    "#Computing cluster centers for both the classes\n",
    "\n",
    "avgInLrisk=mean(D1[:,0]) \n",
    "avgSavLrisk=mean(D1[:,1])  \n",
    "avgInHrisk=mean(D2[:,0]) \n",
    "avgSavHrisk=mean(D2[:,1])  \n",
    "\n",
    "X1=np.array([avgInLrisk,avgSavLrisk]) #Low risk cluster center\n",
    "X2=np.array([avgInHrisk,avgSavHrisk]) #High risk cluster center\n",
    "\n",
    "#plotting cluster center in green\n",
    "plt.plot(X1[0],X1[1],'gs')\n",
    "plt.plot(X2[0],X2[1],'gs')\n",
    "\n",
    "#Plotting line joining X1 and X2(centroids)\n",
    "xvalues=[X1[0],X2[0]]\n",
    "yvalues=[X1[1],X2[1]]\n",
    "plt.plot(xvalues,yvalues)\n",
    "\n",
    "# #Finding g(x) of the decison line\n",
    "W=np.array(X1-X2)\n",
    "norm1=norm(X1)\n",
    "norm2=norm(X2)\n",
    "b=0.5*((norm2*norm2)-(norm1*norm1))\n",
    "\n",
    "xl=\"Income\"\n",
    "yl=\"Saving\"\n",
    "plt.xlabel(xl) \n",
    "plt.ylabel(yl)\n",
    "plt.title(\"Linear Classifcation Model\")\n",
    "\n",
    "\n",
    "#Classifying new customer with X=[income,saving]\n",
    "# Applying the model on new data to predict class label\n",
    "#X=[6.7,.8]\n",
    "X=[4,0.2]\n",
    "\n",
    "\n",
    "g=np.dot(W,X)+b\n",
    "if(g>0):\n",
    "    print(\"Low risk customer \")\n",
    "    plt.plot(X[0],X[1],'bx')\n",
    "else:\n",
    "    print(\"High risk customer \")\n",
    "    plt.plot(X[0],X[1],'rx')\n",
    "\n",
    "\n",
    "\n",
    "\n",
    "#Advantage: \n",
    "#Simple to imlement \n",
    "#disadvantage: \n",
    "# works well if the patterns of both classes have low variance or mostly they are clustered ariund the center\n",
    "#misclassifications\n",
    "#X=[10,0.4]\n",
    "X=[7,.2]"
   ]
  },
  {
   "cell_type": "code",
   "execution_count": null,
   "id": "metallic-intellectual",
   "metadata": {},
   "outputs": [],
   "source": []
  }
 ],
 "metadata": {
  "kernelspec": {
   "display_name": "Python 3",
   "language": "python",
   "name": "python3"
  },
  "language_info": {
   "codemirror_mode": {
    "name": "ipython",
    "version": 3
   },
   "file_extension": ".py",
   "mimetype": "text/x-python",
   "name": "python",
   "nbconvert_exporter": "python",
   "pygments_lexer": "ipython3",
   "version": "3.8.3"
  }
 },
 "nbformat": 4,
 "nbformat_minor": 5
}
