{
 "cells": [
  {
   "cell_type": "code",
   "execution_count": 1,
   "id": "super-seeking",
   "metadata": {},
   "outputs": [],
   "source": [
    "## Expt. 1 a)-----Linear regression using linear least squares fit method--##\n",
    "# Example Predictor is CGPA and Target is Salary\n"
   ]
  },
  {
   "cell_type": "code",
   "execution_count": 7,
   "id": "million-mexico",
   "metadata": {},
   "outputs": [],
   "source": [
    "import matplotlib.pyplot as plt\n",
    "import numpy as np\n",
    "from statistics import mean\n",
    "from sklearn.metrics import r2_score\n"
   ]
  },
  {
   "cell_type": "code",
   "execution_count": 8,
   "id": "hungarian-blind",
   "metadata": {},
   "outputs": [],
   "source": [
    "# past data for training the regression model\n",
    "# Example: x is CGPA and  y is Salary\n"
   ]
  },
  {
   "cell_type": "code",
   "execution_count": 9,
   "id": "furnished-climb",
   "metadata": {},
   "outputs": [
    {
     "data": {
      "text/plain": [
       "<matplotlib.collections.PathCollection at 0x26b0b01ec70>"
      ]
     },
     "execution_count": 9,
     "metadata": {},
     "output_type": "execute_result"
    },
    {
     "data": {
      "image/png": "[encoded data removed]",
      "text/plain": [
       "<Figure size 432x288 with 1 Axes>"
      ]
     },
     "metadata": {
      "needs_background": "light"
     },
     "output_type": "display_data"
    }
   ],
   "source": [
    "x=np.array([6.1, 6.15, 6.30, 7.24, 7.50, 7.50, 7.9, 8.0, 8.9, 9.1, 9.5, 9.5, 9.52])\n",
    "y=np.array([0.0, 2.50, 2.25, 6.00, 3.30, 3.75, 4.5, 3.3, 4.0, 3.5, 6.5, 10.5, 14.5])\n",
    "plt.scatter(x,y,color='blue')"
   ]
  },
  {
   "cell_type": "code",
   "execution_count": 10,
   "id": "smart-canadian",
   "metadata": {},
   "outputs": [],
   "source": [
    "#Finding m and c for the best fit line using formulae\n"
   ]
  },
  {
   "cell_type": "code",
   "execution_count": 11,
   "id": "waiting-snapshot",
   "metadata": {},
   "outputs": [],
   "source": [
    "xavg=mean(x)\n",
    "yavg=mean(y)\n",
    "nsum=0 #numerator\n",
    "dsum=0 #denominator\n",
    "n=len(x)\n"
   ]
  },
  {
   "cell_type": "code",
   "execution_count": 12,
   "id": "solid-wagner",
   "metadata": {},
   "outputs": [],
   "source": [
    "xavg=mean(x)\n",
    "yavg=mean(y)\n",
    "nsum=0 #numerator\n",
    "dsum=0 #denominator\n",
    "n=len(x)\n"
   ]
  },
  {
   "cell_type": "code",
   "execution_count": 14,
   "id": "mechanical-annual",
   "metadata": {},
   "outputs": [],
   "source": [
    "for i in range(n):\n",
    "    nsum=nsum+(x[i]-xavg)*(y[i]-yavg)\n",
    "    dsum=dsum+(x[i]-xavg)*(x[i]-xavg)"
   ]
  },
  {
   "cell_type": "code",
   "execution_count": 15,
   "id": "possible-portrait",
   "metadata": {},
   "outputs": [
    {
     "name": "stdout",
     "output_type": "stream",
     "text": [
      "Equation of the best fit line is: y =  2.12 * x  -11.85\n"
     ]
    }
   ],
   "source": [
    "m=nsum/dsum #slope of the line\n",
    "c=yavg-m*xavg  #y-intercept\n",
    "print('Equation of the best fit line is: y = ','%.2f'%m,'* x ', '% + .2f'%c)"
   ]
  },
  {
   "cell_type": "code",
   "execution_count": 16,
   "id": "stone-designer",
   "metadata": {},
   "outputs": [],
   "source": [
    "#Computing R square value\n",
    "yp=np.zeros((n,1))\n",
    "for i in range(n):\n",
    "    yp[i]=m*x[i]+c"
   ]
  },
  {
   "cell_type": "code",
   "execution_count": 17,
   "id": "statutory-metabolism",
   "metadata": {},
   "outputs": [
    {
     "name": "stdout",
     "output_type": "stream",
     "text": [
      "R2 Score: 0.51\n"
     ]
    }
   ],
   "source": [
    "r2=round(r2_score(y,yp),2)\n",
    "print('R2 Score:',r2)\n"
   ]
  },
  {
   "cell_type": "code",
   "execution_count": 18,
   "id": "departmental-lying",
   "metadata": {},
   "outputs": [
    {
     "data": {
      "text/plain": [
       "<matplotlib.collections.PathCollection at 0x26b0b15b3d0>"
      ]
     },
     "execution_count": 18,
     "metadata": {},
     "output_type": "execute_result"
    },
    {
     "data": {
      "image/png": "[encoded data removed]",
      "text/plain": [
       "<Figure size 432x288 with 1 Axes>"
      ]
     },
     "metadata": {
      "needs_background": "light"
     },
     "output_type": "display_data"
    }
   ],
   "source": [
    "#plot the training instances(points)\n",
    "plt.scatter(x,y,color='blue')"
   ]
  },
  {
   "cell_type": "code",
   "execution_count": 19,
   "id": "contrary-logistics",
   "metadata": {},
   "outputs": [
    {
     "data": {
      "text/plain": [
       "[<matplotlib.lines.Line2D at 0x26b0c194220>]"
      ]
     },
     "execution_count": 19,
     "metadata": {},
     "output_type": "execute_result"
    },
    {
     "data": {
      "image/png": "[encoded data removed]",
      "text/plain": [
       "<Figure size 432x288 with 1 Axes>"
      ]
     },
     "metadata": {
      "needs_background": "light"
     },
     "output_type": "display_data"
    }
   ],
   "source": [
    "#Plotting the best fit line\n",
    "Yp=np.zeros((50,1))\n",
    "X = np.linspace(0,10, 50, endpoint=True)\n",
    "for i in range(50):\n",
    "    Yp[i]=m*X[i]+c\n",
    "\n",
    "xl=\"CGPA\"\n",
    "yl=\"Salary\"\n",
    "plt.xlabel(xl) \n",
    "plt.ylabel(yl)\n",
    "plt.title(\"Linear Ordinary LS fit Model - R2 Score=\"+str(r2))\n",
    "plt.plot(X, Yp)"
   ]
  },
  {
   "cell_type": "code",
   "execution_count": 20,
   "id": "lasting-pricing",
   "metadata": {},
   "outputs": [
    {
     "name": "stdout",
     "output_type": "stream",
     "text": [
      "Predicted Salary for the student with CGPA 7.20  is Rs 3.40 Lac\n"
     ]
    },
    {
     "data": {
      "image/png": "[encoded data removed]",
      "text/plain": [
       "<Figure size 432x288 with 1 Axes>"
      ]
     },
     "metadata": {
      "needs_background": "light"
     },
     "output_type": "display_data"
    }
   ],
   "source": [
    "#For the given CGPA find the  predicted salary\n",
    "cgpa=7.2\n",
    "psal=m*cgpa+c\n",
    "plt.plot(cgpa,psal,'ro')\n",
    "print('Predicted Salary for the student with CGPA','%.2f'%cgpa,' is Rs','%.2f'%psal, 'Lac')\n"
   ]
  },
  {
   "cell_type": "code",
   "execution_count": 1,
   "id": "interstate-picking",
   "metadata": {},
   "outputs": [
    {
     "name": "stdout",
     "output_type": "stream",
     "text": [
      "Equation of the best fit line is: y =  2.12 * x  -11.85\n",
      "R2 Score: 0.51\n",
      "Predicted Salary for the student with CGPA 7.20  is Rs 3.40 Lac\n"
     ]
    },
    {
     "data": {
      "image/png": "[encoded data removed]",
      "text/plain": [
       "<Figure size 432x288 with 1 Axes>"
      ]
     },
     "metadata": {
      "needs_background": "light"
     },
     "output_type": "display_data"
    }
   ],
   "source": [
    "#!/usr/bin/env python3\n",
    "# -*- coding: utf-8 -*-\n",
    "\"\"\"\n",
    "Created on Thu Jan 28 22:50:45 2021\n",
    "\n",
    "@author: apple\n",
    "\"\"\"\n",
    "\n",
    "## Expt. 1 a)-----Linear regression using linear least squares fit method--##\n",
    "# Example Predictor is CGPA and Target is Salary\n",
    "\n",
    "import matplotlib.pyplot as plt\n",
    "import numpy as np\n",
    "from statistics import mean\n",
    "from sklearn.metrics import r2_score\n",
    "\n",
    "# past data for training the regression model\n",
    "# Example: x is CGPA and  y is Salary\n",
    "x=np.array([6.1, 6.15, 6.30, 7.24, 7.50, 7.50, 7.9, 8.0, 8.9, 9.1, 9.5, 9.5, 9.52])\n",
    "y=np.array([0.0, 2.50, 2.25, 6.00, 3.30, 3.75, 4.5, 3.3, 4.0, 3.5, 6.5, 10.5, 14.5])\n",
    "plt.scatter(x,y,color='blue')\n",
    "\n",
    "#Finding m and c for the best fit line using formulae\n",
    "xavg=mean(x)\n",
    "yavg=mean(y)\n",
    "nsum=0 #numerator\n",
    "dsum=0 #denominator\n",
    "n=len(x)\n",
    "\n",
    "\n",
    "for i in range(n):\n",
    "    nsum=nsum+(x[i]-xavg)*(y[i]-yavg)\n",
    "    dsum=dsum+(x[i]-xavg)*(x[i]-xavg)\n",
    "\n",
    "m=nsum/dsum #slope of the line\n",
    "c=yavg-m*xavg  #y-intercept\n",
    "print('Equation of the best fit line is: y = ','%.2f'%m,'* x ', '% + .2f'%c)\n",
    "\n",
    "\n",
    "#Computing R square value\n",
    "\n",
    "yp=np.zeros((n,1))\n",
    "for i in range(n):\n",
    "    yp[i]=m*x[i]+c\n",
    "\n",
    "r2=round(r2_score(y,yp),2)\n",
    "print('R2 Score:',r2)\n",
    "\n",
    "#plot the training instances(points)\n",
    "plt.scatter(x,y,color='blue')\n",
    "\n",
    "#Plotting the best fit line\n",
    "Yp=np.zeros((50,1))\n",
    "X = np.linspace(0,10, 50, endpoint=True)\n",
    "for i in range(50):\n",
    "    Yp[i]=m*X[i]+c\n",
    "\n",
    "xl=\"CGPA\"\n",
    "yl=\"Salary\"\n",
    "plt.xlabel(xl) \n",
    "plt.ylabel(yl)\n",
    "plt.title(\"Linear Ordinary LS fit Model - R2 Score=\"+str(r2))\n",
    "plt.plot(X, Yp)\n",
    "\n",
    "\n",
    "#For the given CGPA find the  predicted salary\n",
    "cgpa=7.2\n",
    "psal=m*cgpa+c\n",
    "plt.plot(cgpa,psal,'ro')\n",
    "print('Predicted Salary for the student with CGPA','%.2f'%cgpa,' is Rs','%.2f'%psal, 'Lac')\n"
   ]
  },
  {
   "cell_type": "code",
   "execution_count": null,
   "id": "naked-carrier",
   "metadata": {},
   "outputs": [],
   "source": []
  }
 ],
 "metadata": {
  "kernelspec": {
   "display_name": "Python 3",
   "language": "python",
   "name": "python3"
  },
  "language_info": {
   "codemirror_mode": {
    "name": "ipython",
    "version": 3
   },
   "file_extension": ".py",
   "mimetype": "text/x-python",
   "name": "python",
   "nbconvert_exporter": "python",
   "pygments_lexer": "ipython3",
   "version": "3.8.3"
  }
 },
 "nbformat": 4,
 "nbformat_minor": 5
}
