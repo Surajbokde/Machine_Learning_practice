{
 "cells": [
  {
   "cell_type": "code",
   "execution_count": 2,
   "id": "front-organizer",
   "metadata": {},
   "outputs": [
    {
     "name": "stdout",
     "output_type": "stream",
     "text": [
      "hello world\n"
     ]
    }
   ],
   "source": [
    "s=\"hello world\"\n",
    "print(s)"
   ]
  },
  {
   "cell_type": "code",
   "execution_count": 3,
   "id": "acoustic-essence",
   "metadata": {},
   "outputs": [
    {
     "name": "stdout",
     "output_type": "stream",
     "text": [
      "2\n"
     ]
    }
   ],
   "source": [
    "s=2\n",
    "print(s)\n"
   ]
  },
  {
   "cell_type": "code",
   "execution_count": 4,
   "id": "hired-parent",
   "metadata": {},
   "outputs": [
    {
     "name": "stdout",
     "output_type": "stream",
     "text": [
      "[1, 2, 3, 4]\n"
     ]
    }
   ],
   "source": [
    "s=[1,2,3,4]\n",
    "print(s)"
   ]
  },
  {
   "cell_type": "code",
   "execution_count": 6,
   "id": "mediterranean-authority",
   "metadata": {},
   "outputs": [
    {
     "name": "stdout",
     "output_type": "stream",
     "text": [
      "<class 'list'>\n"
     ]
    }
   ],
   "source": [
    "print(type(s))\n"
   ]
  },
  {
   "cell_type": "code",
   "execution_count": 8,
   "id": "induced-signature",
   "metadata": {},
   "outputs": [
    {
     "name": "stdout",
     "output_type": "stream",
     "text": [
      "<generator object <genexpr> at 0x000002AFC7308C10>\n"
     ]
    }
   ],
   "source": [
    "print(x for x in s)\n"
   ]
  },
  {
   "cell_type": "code",
   "execution_count": 15,
   "id": "limited-consensus",
   "metadata": {},
   "outputs": [
    {
     "name": "stdout",
     "output_type": "stream",
     "text": [
      "1 2 3 4\n"
     ]
    }
   ],
   "source": [
    "s=input()\n"
   ]
  },
  {
   "cell_type": "code",
   "execution_count": 17,
   "id": "persistent-tragedy",
   "metadata": {},
   "outputs": [
    {
     "name": "stdout",
     "output_type": "stream",
     "text": [
      "<class 'str'>\n"
     ]
    }
   ],
   "source": [
    "print(type(s))"
   ]
  },
  {
   "cell_type": "code",
   "execution_count": 22,
   "id": "improved-entrepreneur",
   "metadata": {},
   "outputs": [],
   "source": [
    "s=s.split()\n"
   ]
  },
  {
   "cell_type": "code",
   "execution_count": 21,
   "id": "severe-influence",
   "metadata": {},
   "outputs": [
    {
     "name": "stdout",
     "output_type": "stream",
     "text": [
      "<class 'list'>\n"
     ]
    }
   ],
   "source": [
    "print(type(s.split()))"
   ]
  },
  {
   "cell_type": "code",
   "execution_count": 24,
   "id": "conservative-roommate",
   "metadata": {},
   "outputs": [
    {
     "name": "stdout",
     "output_type": "stream",
     "text": [
      "['1', '2', '3', '4']\n"
     ]
    }
   ],
   "source": [
    "print(s)\n"
   ]
  },
  {
   "cell_type": "code",
   "execution_count": 26,
   "id": "roman-sewing",
   "metadata": {},
   "outputs": [],
   "source": [
    "s=[int(x) for x in s]  #integer list"
   ]
  },
  {
   "cell_type": "code",
   "execution_count": 28,
   "id": "configured-surgeon",
   "metadata": {},
   "outputs": [
    {
     "name": "stdout",
     "output_type": "stream",
     "text": [
      "[1, 2, 3, 4]\n"
     ]
    }
   ],
   "source": [
    "print(s)"
   ]
  },
  {
   "cell_type": "code",
   "execution_count": 30,
   "id": "natural-yemen",
   "metadata": {},
   "outputs": [
    {
     "name": "stdout",
     "output_type": "stream",
     "text": [
      "{1: 'a', 2: 'b', 3: 'c'}\n"
     ]
    }
   ],
   "source": [
    "#dict\n",
    "dict={\n",
    "    1:'a',\n",
    "    2:'b',\n",
    "    3:'c'\n",
    "}\n",
    "print(dict)"
   ]
  },
  {
   "cell_type": "code",
   "execution_count": 32,
   "id": "lesbian-moral",
   "metadata": {},
   "outputs": [
    {
     "name": "stdout",
     "output_type": "stream",
     "text": [
      "1\n",
      "2\n",
      "3\n"
     ]
    }
   ],
   "source": [
    "#to access key\n",
    "for x in dict:\n",
    "    print(x)"
   ]
  },
  {
   "cell_type": "code",
   "execution_count": 37,
   "id": "correct-bones",
   "metadata": {},
   "outputs": [
    {
     "name": "stdout",
     "output_type": "stream",
     "text": [
      "a\n",
      "b\n",
      "c\n"
     ]
    }
   ],
   "source": [
    "#to access values of dict\n",
    "#its dict.values() not dict.value()\n",
    "for x in dict.values():  \n",
    "    print(x)"
   ]
  },
  {
   "cell_type": "code",
   "execution_count": 39,
   "id": "brilliant-grass",
   "metadata": {},
   "outputs": [
    {
     "name": "stdout",
     "output_type": "stream",
     "text": [
      "6 is not key\n"
     ]
    }
   ],
   "source": [
    "if dict.get(6) is None:\n",
    "    print(\"6 is not key\")"
   ]
  },
  {
   "cell_type": "code",
   "execution_count": 42,
   "id": "fitting-reproduction",
   "metadata": {},
   "outputs": [
    {
     "name": "stdout",
     "output_type": "stream",
     "text": [
      "('hello', 6)\n",
      "<class 'tuple'>\n"
     ]
    }
   ],
   "source": [
    "s=('hello',6)\n",
    "print(s)\n",
    "print(type(s))"
   ]
  },
  {
   "cell_type": "code",
   "execution_count": 44,
   "id": "social-gibson",
   "metadata": {},
   "outputs": [
    {
     "name": "stdout",
     "output_type": "stream",
     "text": [
      "[('s', 1, 56), ('t', 2, 64), ('k', 1, 58)]\n",
      "<class 'list'>\n"
     ]
    }
   ],
   "source": [
    "#list of tuple\n",
    "listoftuple=[('s',1,56),('t',2,64),('k',1,58)]\n",
    "print(listoftuple)\n",
    "print(type(listoftuple))\n"
   ]
  },
  {
   "cell_type": "code",
   "execution_count": 46,
   "id": "timely-family",
   "metadata": {},
   "outputs": [
    {
     "name": "stdout",
     "output_type": "stream",
     "text": [
      "('s', 1, 56)\n",
      "('t', 2, 64)\n",
      "('k', 1, 58)\n"
     ]
    }
   ],
   "source": [
    "for x in listoftuple:\n",
    "    print(x)"
   ]
  },
  {
   "cell_type": "code",
   "execution_count": 48,
   "id": "sharp-exception",
   "metadata": {},
   "outputs": [
    {
     "name": "stdout",
     "output_type": "stream",
     "text": [
      "s\n",
      "1\n",
      "56\n",
      "t\n",
      "2\n",
      "64\n",
      "k\n",
      "1\n",
      "58\n"
     ]
    }
   ],
   "source": [
    "for x in listoftuple:\n",
    "    for marks in x:\n",
    "        print(marks)"
   ]
  },
  {
   "cell_type": "code",
   "execution_count": 52,
   "id": "olympic-berkeley",
   "metadata": {},
   "outputs": [
    {
     "name": "stdout",
     "output_type": "stream",
     "text": [
      "56\n",
      "64\n",
      "58\n"
     ]
    }
   ],
   "source": [
    "for x in listoftuple:\n",
    "    print(x[2])"
   ]
  },
  {
   "cell_type": "code",
   "execution_count": 53,
   "id": "occupational-seeking",
   "metadata": {},
   "outputs": [],
   "source": [
    "def hello():\n",
    "    print(\"hello\")"
   ]
  },
  {
   "cell_type": "code",
   "execution_count": 54,
   "id": "champion-assault",
   "metadata": {},
   "outputs": [
    {
     "name": "stdout",
     "output_type": "stream",
     "text": [
      "hello\n"
     ]
    }
   ],
   "source": [
    "hello()"
   ]
  }
 ],
 "metadata": {
  "kernelspec": {
   "display_name": "Python 3",
   "language": "python",
   "name": "python3"
  },
  "language_info": {
   "codemirror_mode": {
    "name": "ipython",
    "version": 3
   },
   "file_extension": ".py",
   "mimetype": "text/x-python",
   "name": "python",
   "nbconvert_exporter": "python",
   "pygments_lexer": "ipython3",
   "version": "3.8.3"
  }
 },
 "nbformat": 4,
 "nbformat_minor": 5
}
